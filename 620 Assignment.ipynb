{
 "cells": [
  {
   "cell_type": "code",
   "execution_count": 1,
   "metadata": {},
   "outputs": [
    {
     "name": "stdout",
     "output_type": "stream",
     "text": [
      "What is the problem? Headache\n",
      "Have you had this problem before (yes or no)? no\n",
      "Well, you have it nonw.\n"
     ]
    }
   ],
   "source": [
    "#question 3.6\n",
    "input(\"What is the problem? \")\n",
    "answer= input(\"Have you had this problem before (yes or no)? \")\n",
    "if answer == \"yes\":\n",
    "        print(\"Well, you have it again. \")\n",
    "elif answer == \"no\":\n",
    "        print(\"Well, you have it nonw.\")"
   ]
  },
  {
   "cell_type": "code",
   "execution_count": 3,
   "metadata": {},
   "outputs": [
    {
     "name": "stdout",
     "output_type": "stream",
     "text": [
      " 0   0   0\n",
      " 1   1   1\n",
      " 2   4   8\n",
      " 3   9  27\n",
      " 4  16  64\n",
      " 5  25 125\n"
     ]
    }
   ],
   "source": [
    "#question 3.7\n",
    "for x in range(0,6):\n",
    "        print(repr(x).rjust(2),repr(x*x).rjust(3), end='')\n",
    "        print(repr(x*x*x).rjust(4))\n",
    "        "
   ]
  },
  {
   "cell_type": "code",
   "execution_count": 6,
   "metadata": {},
   "outputs": [
    {
     "name": "stdout",
     "output_type": "stream",
     "text": [
      "the sum is:  10\n",
      "the product is:  24\n",
      "the maxval is:  4\n",
      "the smallest value is:  1\n"
     ]
    }
   ],
   "source": [
    "#question 3.8\n",
    "import numpy as np\n",
    "total=0\n",
    "counter=0\n",
    "numbers= (1,2,3,4)\n",
    "for x in numbers:\n",
    "    total += x\n",
    "    counter += 1\n",
    "    average = total/counter\n",
    "    product = np.prod(numbers)\n",
    "    big = max(numbers)\n",
    "    small = min(numbers)\n",
    "print('the sum is: ',+total)\n",
    "print('the product is: ',+ product)\n",
    "print('the maxval is: ',big)\n",
    "print('the smallest value is: ',+ small)"
   ]
  },
  {
   "cell_type": "code",
   "execution_count": 7,
   "metadata": {},
   "outputs": [],
   "source": [
    "#question 3.9\n"
   ]
  },
  {
   "cell_type": "code",
   "execution_count": 8,
   "metadata": {},
   "outputs": [],
   "source": [
    "#question 3.10"
   ]
  },
  {
   "cell_type": "code",
   "execution_count": null,
   "metadata": {},
   "outputs": [
    {
     "name": "stdout",
     "output_type": "stream",
     "text": [
      "Enter gallons used (-1 to end): 11.5\n",
      "Enter miles driven: 269\n",
      "Miles per gallon for this tank was 23.39\n",
      "\n",
      "\n"
     ]
    }
   ],
   "source": [
    "#question 3.11\n",
    "totalgallons=0.0\n",
    "totalmiles=0.0\n",
    "gallons= float(input('Enter gallons used (-1 to end): '))\n",
    "while (gallons !=  -1.0):\n",
    "    totalgallons+=gallons\n",
    "    miles=float(input('Enter miles driven: '))\n",
    "    totalmiles+=miles\n",
    "    print('Miles per gallon for this tank was %.2f\\n\\n' %(miles/gallons))\n",
    "totalaverage= totalmiles/totalgallons\n",
    "print('\\nThe Total average miles per gallon was %.3f\\n' % totalaverage)"
   ]
  },
  {
   "cell_type": "code",
   "execution_count": null,
   "metadata": {},
   "outputs": [],
   "source": [
    "#question 3.12\n",
    "n= int(input('Enter a five digit number: '))\n",
    "temp1=n\n",
    "firstdigit= temp1// 10000\n",
    "temp2= temp1%10000\n",
    "seconddigit= temp2//1000\n",
    "temp1=temp2%1000\n",
    "temp2=temp1%100\n",
    "fourthdigit=temp2//10\n",
    "temp1=temp2 %10\n",
    "fifthdigit=temp1\n",
    "if (firstdigit==fifthdigit):\n",
    "    print('%d is a plaindrome\\n' %n)\n",
    "elif (seconddigit==fourthdigit):\n",
    "    print('%d is a palindrome\\n' %n)\n",
    "else:\n",
    "    print('%d is not a palindrome' %n)\n",
    "          \n"
   ]
  },
  {
   "cell_type": "code",
   "execution_count": null,
   "metadata": {},
   "outputs": [],
   "source": [
    "#question 3.13\n",
    "number= -1\n",
    "factorial= 1\n",
    "while number < 0:\n",
    "    number = int(input('Enter a positive integer: '))\n",
    "n=number\n",
    "\n",
    "while (n>0):\n",
    "    if (n==0):\n",
    "        factorial+= 1\n",
    "    else:\n",
    "        factorial += n\n",
    "    n-= 1\n",
    "print('%d is %d\\n' % (number,factorial))\n"
   ]
  },
  {
   "cell_type": "code",
   "execution_count": null,
   "metadata": {},
   "outputs": [],
   "source": [
    "#question 3.14\n"
   ]
  },
  {
   "cell_type": "code",
   "execution_count": null,
   "metadata": {},
   "outputs": [],
   "source": [
    "#question 3.15\n",
    "def exponential(n, x):\n",
    "    sum= 1.0\n",
    "    for i in range(n, 0, -1):\n",
    "        sum = 1+x*sum/1\n",
    "    print('e^x =', sum)\n",
    "n=10\n",
    "x=1.0\n",
    "exponential(n,x)\n",
    "\n",
    "\n",
    "\n"
   ]
  },
  {
   "cell_type": "code",
   "execution_count": null,
   "metadata": {},
   "outputs": [],
   "source": [
    "#question 3.16\n",
    "list1= [2,20,26,85,93,73,39,81,10,65]\n",
    "\n",
    "def range(list):\n",
    "    largest = list1[0]\n",
    "    largest2 = None\n",
    "    for item in list1[1:]:\n",
    "        if item > largest:\n",
    "            largest2 = largest\n",
    "        elif largest2 == None or Largest2 < item:\n",
    "            largest = item\n",
    "        print('Largest element is: ', largest)\n",
    "        print('2nd Largest element is: ', Largest2)"
   ]
  },
  {
   "cell_type": "code",
   "execution_count": null,
   "metadata": {},
   "outputs": [],
   "source": []
  }
 ],
 "metadata": {
  "kernelspec": {
   "display_name": "Python 3",
   "language": "python",
   "name": "python3"
  },
  "language_info": {
   "codemirror_mode": {
    "name": "ipython",
    "version": 3
   },
   "file_extension": ".py",
   "mimetype": "text/x-python",
   "name": "python",
   "nbconvert_exporter": "python",
   "pygments_lexer": "ipython3",
   "version": "3.7.3"
  }
 },
 "nbformat": 4,
 "nbformat_minor": 2
}
