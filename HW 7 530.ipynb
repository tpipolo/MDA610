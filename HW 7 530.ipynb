{
 "cells": [
  {
   "cell_type": "code",
   "execution_count": 1,
   "metadata": {},
   "outputs": [
    {
     "data": {
      "text/plain": [
       "array([[1, 1, 1],\n",
       "       [1, 1, 1]])"
      ]
     },
     "execution_count": 1,
     "metadata": {},
     "output_type": "execute_result"
    }
   ],
   "source": [
    "#7.1\n",
    "import numpy as np\n",
    "np.ones((2,3), dtype = int)"
   ]
  },
  {
   "cell_type": "code",
   "execution_count": 2,
   "metadata": {},
   "outputs": [
    {
     "data": {
      "text/plain": [
       "array([[0, 0, 0],\n",
       "       [0, 0, 0],\n",
       "       [0, 0, 0]])"
      ]
     },
     "execution_count": 2,
     "metadata": {},
     "output_type": "execute_result"
    }
   ],
   "source": [
    "np.zeros((3,3), dtype = int)"
   ]
  },
  {
   "cell_type": "code",
   "execution_count": 3,
   "metadata": {},
   "outputs": [
    {
     "data": {
      "text/plain": [
       "array([[7, 7, 7, 7, 7],\n",
       "       [7, 7, 7, 7, 7]])"
      ]
     },
     "execution_count": 3,
     "metadata": {},
     "output_type": "execute_result"
    }
   ],
   "source": [
    "np.full((2,5), 7)"
   ]
  },
  {
   "cell_type": "code",
   "execution_count": 4,
   "metadata": {},
   "outputs": [
    {
     "data": {
      "text/plain": [
       "array([0, 2, 4, 6])"
      ]
     },
     "execution_count": 4,
     "metadata": {},
     "output_type": "execute_result"
    }
   ],
   "source": [
    "#7.2\n",
    "np.arange(0,4)\n",
    "np.arange(0,4) + 7\n",
    "np.arange(0,4) *2"
   ]
  },
  {
   "cell_type": "code",
   "execution_count": 5,
   "metadata": {},
   "outputs": [
    {
     "data": {
      "text/plain": [
       "array([[18, 32, 42],\n",
       "       [48, 50, 48],\n",
       "       [42, 32, 18]])"
      ]
     },
     "execution_count": 5,
     "metadata": {},
     "output_type": "execute_result"
    }
   ],
   "source": [
    "#7.3\n",
    "Array1 = np.arange(2,20,2).reshape(3,3)\n",
    "Array2 = np.arange(9, 0, -1).reshape(3,3)\n",
    "Array1 * Array2"
   ]
  },
  {
   "cell_type": "code",
   "execution_count": 6,
   "metadata": {},
   "outputs": [
    {
     "data": {
      "text/plain": [
       "array([[ 2,  3,  5,  7, 11],\n",
       "       [13, 17, 19, 23, 29]])"
      ]
     },
     "execution_count": 6,
     "metadata": {},
     "output_type": "execute_result"
    }
   ],
   "source": [
    "#7.4\n",
    "List1=[2,3,5,7,11]\n",
    "List2=[13,17,19,23,29]\n",
    "np.vstack((List1, List2))"
   ]
  },
  {
   "cell_type": "code",
   "execution_count": 7,
   "metadata": {},
   "outputs": [
    {
     "data": {
      "text/plain": [
       "array([[ 1,  0,  4],\n",
       "       [ 8, 32, 64]])"
      ]
     },
     "execution_count": 7,
     "metadata": {},
     "output_type": "execute_result"
    }
   ],
   "source": [
    "#7.5\n",
    "Array3 = np.array([1,0,4,8,32,64]).reshape(2,3)\n",
    "Array3.flatten()\n",
    "Array3\n",
    "Array3.ravel()\n",
    "Array3"
   ]
  },
  {
   "cell_type": "code",
   "execution_count": 10,
   "metadata": {},
   "outputs": [
    {
     "data": {
      "text/plain": [
       "array([[ 6,  8, 10],\n",
       "       [11, 13, 15]])"
      ]
     },
     "execution_count": 10,
     "metadata": {},
     "output_type": "execute_result"
    }
   ],
   "source": [
    "#7.9\n",
    "Array4 = np.arange(1,16).reshape(3,5)\n",
    "Array4[2]\n",
    "Array4[:, 4:5]\n",
    "Array4[0:2]\n",
    "Array4[:,2:4]\n",
    "Array4[1,4]\n",
    "Array4[1:3, [0,2,4]]"
   ]
  },
  {
   "cell_type": "code",
   "execution_count": null,
   "metadata": {},
   "outputs": [
    {
     "name": "stdout",
     "output_type": "stream",
     "text": [
      "Tic-Tac-Toe Game Designed By Sourabh Somani\n",
      "Player 1 [X] --- Player 2 [O]\n",
      "\n",
      "\n",
      "\n",
      "Please Wait...\n",
      "   |   |   \n",
      "___|___|___\n",
      "   |   |   \n",
      "___|___|___\n",
      "   |   |   \n",
      "   |   |   \n",
      "Player 1's chance\n"
     ]
    }
   ],
   "source": [
    "#7.10\n",
    "import os    \n",
    "import time    \n",
    "    \n",
    "board = [' ',' ',' ',' ',' ',' ',' ',' ',' ',' ']    \n",
    "player = 1    \n",
    "   \n",
    "########win Flags##########    \n",
    "Win = 1    \n",
    "Draw = -1    \n",
    "Running = 0    \n",
    "Stop = 1    \n",
    "###########################    \n",
    "Game = Running    \n",
    "Mark = 'X'    \n",
    "   \n",
    "#This Function Draws Game Board    \n",
    "def DrawBoard():    \n",
    "    print(\" %c | %c | %c \" % (board[1],board[2],board[3]))    \n",
    "    print(\"___|___|___\")    \n",
    "    print(\" %c | %c | %c \" % (board[4],board[5],board[6]))    \n",
    "    print(\"___|___|___\")    \n",
    "    print(\" %c | %c | %c \" % (board[7],board[8],board[9]))    \n",
    "    print(\"   |   |   \")    \n",
    "   \n",
    "#This Function Checks position is empty or not    \n",
    "def CheckPosition(x):    \n",
    "    if(board[x] == ' '):    \n",
    "        return True    \n",
    "    else:    \n",
    "        return False    \n",
    "   \n",
    "#This Function Checks player has won or not    \n",
    "def CheckWin():    \n",
    "    global Game    \n",
    "    #Horizontal winning condition    \n",
    "    if(board[1] == board[2] and board[2] == board[3] and board[1] != ' '):    \n",
    "        Game = Win    \n",
    "    elif(board[4] == board[5] and board[5] == board[6] and board[4] != ' '):    \n",
    "        Game = Win    \n",
    "    elif(board[7] == board[8] and board[8] == board[9] and board[7] != ' '):    \n",
    "        Game = Win    \n",
    "    #Vertical Winning Condition    \n",
    "    elif(board[1] == board[4] and board[4] == board[7] and board[1] != ' '):    \n",
    "        Game = Win    \n",
    "    elif(board[2] == board[5] and board[5] == board[8] and board[2] != ' '):    \n",
    "        Game = Win    \n",
    "    elif(board[3] == board[6] and board[6] == board[9] and board[3] != ' '):    \n",
    "        Game=Win    \n",
    "    #Diagonal Winning Condition    \n",
    "    elif(board[1] == board[5] and board[5] == board[9] and board[5] != ' '):    \n",
    "        Game = Win    \n",
    "    elif(board[3] == board[5] and board[5] == board[7] and board[5] != ' '):    \n",
    "        Game=Win    \n",
    "    #Match Tie or Draw Condition    \n",
    "    elif(board[1]!=' ' and board[2]!=' ' and board[3]!=' ' and board[4]!=' ' and board[5]!=' ' and board[6]!=' ' and board[7]!=' ' and board[8]!=' ' and board[9]!=' '):    \n",
    "        Game=Draw    \n",
    "    else:            \n",
    "        Game=Running    \n",
    "    \n",
    "print(\"Tic-Tac-Toe Game Designed By Sourabh Somani\")    \n",
    "print(\"Player 1 [X] --- Player 2 [O]\\n\")    \n",
    "print()    \n",
    "print()    \n",
    "print(\"Please Wait...\")    \n",
    "time.sleep(3)    \n",
    "while(Game == Running):    \n",
    "    os.system('cls')    \n",
    "    DrawBoard()    \n",
    "    if(player % 2 != 0):    \n",
    "        print(\"Player 1's chance\")    \n",
    "        Mark = 'X'    \n",
    "    else:    \n",
    "        print(\"Player 2's chance\")    \n",
    "        Mark = 'O'    \n",
    "    choice = int(input(\"Enter the position between [1-9] where you want to mark : \"))    \n",
    "    if(CheckPosition(choice)):    \n",
    "        board[choice] = Mark    \n",
    "        player+=1    \n",
    "        CheckWin()    \n",
    "    \n",
    "os.system('cls')    \n",
    "DrawBoard()    \n",
    "if(Game==Draw):    \n",
    "    print(\"Game Draw\")    \n",
    "elif(Game==Win):    \n",
    "    player-=1    \n",
    "    if(player%2!=0):    \n",
    "        print(\"Player 1 Won\")    \n",
    "    else:    \n",
    "        print(\"Player 2 Won\")    "
   ]
  },
  {
   "cell_type": "code",
   "execution_count": null,
   "metadata": {},
   "outputs": [],
   "source": [
    "#7.14\n",
    "\n"
   ]
  },
  {
   "cell_type": "code",
   "execution_count": null,
   "metadata": {},
   "outputs": [],
   "source": []
  },
  {
   "cell_type": "code",
   "execution_count": null,
   "metadata": {},
   "outputs": [],
   "source": []
  }
 ],
 "metadata": {
  "kernelspec": {
   "display_name": "Python 3",
   "language": "python",
   "name": "python3"
  },
  "language_info": {
   "codemirror_mode": {
    "name": "ipython",
    "version": 3
   },
   "file_extension": ".py",
   "mimetype": "text/x-python",
   "name": "python",
   "nbconvert_exporter": "python",
   "pygments_lexer": "ipython3",
   "version": "3.7.3"
  }
 },
 "nbformat": 4,
 "nbformat_minor": 2
}
