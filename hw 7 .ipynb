{
 "cells": [
  {
   "cell_type": "code",
   "execution_count": 4,
   "metadata": {},
   "outputs": [
    {
     "data": {
      "text/plain": [
       "{'Mean': 53.3, 'Standard Deviation': 3.773167207507487e-06, 'Variance': 514.81}"
      ]
     },
     "execution_count": 4,
     "metadata": {},
     "output_type": "execute_result"
    }
   ],
   "source": [
    "Stats= {}\n",
    "def comp(nums):\n",
    "    count=len(nums)\n",
    "    mean=sum(nums)/count\n",
    "    Stats['Mean']=mean\n",
    "    squared= []\n",
    "    for i in nums:\n",
    "        t=(i-mean)**2\n",
    "        squared.append(t)\n",
    "    Stats['Standard Deviation']=((sum(squared))/len(nums))**-2\n",
    "    Stats['Variance']=(sum(squared))/len(nums)\n",
    "    return(Stats)\n",
    "\n",
    "raw=[55,24,55,44,66,77,34,23,55,100]\n",
    "\n",
    "comp(raw)"
   ]
  },
  {
   "cell_type": "code",
   "execution_count": 5,
   "metadata": {},
   "outputs": [
    {
     "data": {
      "text/plain": [
       "53.3"
      ]
     },
     "execution_count": 5,
     "metadata": {},
     "output_type": "execute_result"
    }
   ],
   "source": [
    "Stats['Mean']"
   ]
  },
  {
   "cell_type": "code",
   "execution_count": 13,
   "metadata": {},
   "outputs": [
    {
     "name": "stdout",
     "output_type": "stream",
     "text": [
      "Enter a series of numbers. When the series is done type stop:1,2,3,stop,7\n"
     ]
    },
    {
     "data": {
      "text/plain": [
       "2.0"
      ]
     },
     "execution_count": 13,
     "metadata": {},
     "output_type": "execute_result"
    }
   ],
   "source": [
    "def mean():\n",
    "    x=input(\"Enter a series of numbers. When the series is done type stop:\")\n",
    "    huh=x.split(\",\",)\n",
    "    \n",
    "    new=[]\n",
    "    \n",
    "    for i in huh:\n",
    "        if i =='stop':\n",
    "            break\n",
    "        else:\n",
    "            new.append(int(i))\n",
    "    avg=sum(new)/len(new)\n",
    "    return(avg)\n",
    "\n",
    "mean()"
   ]
  },
  {
   "cell_type": "code",
   "execution_count": null,
   "metadata": {},
   "outputs": [],
   "source": []
  },
  {
   "cell_type": "code",
   "execution_count": null,
   "metadata": {},
   "outputs": [],
   "source": []
  }
 ],
 "metadata": {
  "kernelspec": {
   "display_name": "Python 3",
   "language": "python",
   "name": "python3"
  },
  "language_info": {
   "codemirror_mode": {
    "name": "ipython",
    "version": 3
   },
   "file_extension": ".py",
   "mimetype": "text/x-python",
   "name": "python",
   "nbconvert_exporter": "python",
   "pygments_lexer": "ipython3",
   "version": "3.7.3"
  }
 },
 "nbformat": 4,
 "nbformat_minor": 2
}
